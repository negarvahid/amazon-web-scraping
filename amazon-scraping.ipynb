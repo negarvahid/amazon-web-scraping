{
 "cells": [
  {
   "cell_type": "code",
   "execution_count": 1,
   "id": "3daee13b",
   "metadata": {},
   "outputs": [],
   "source": [
    "import selenium\n",
    "from selenium import webdriver\n",
    "from selenium.webdriver.common.by import By\n",
    "from selenium.webdriver.support.ui import WebDriverWait as wait\n",
    "from selenium.webdriver.support import expected_conditions as EC\n",
    "from bs4 import BeautifulSoup"
   ]
  },
  {
   "cell_type": "code",
   "execution_count": 2,
   "id": "2c5166d3",
   "metadata": {},
   "outputs": [],
   "source": [
    "driver = webdriver.Chrome()"
   ]
  },
  {
   "cell_type": "code",
   "execution_count": 3,
   "id": "03a9b62b",
   "metadata": {},
   "outputs": [],
   "source": [
    "def search_with_keyword(keyword):\n",
    "    web = 'https://www.amazon.com'\n",
    "    driver.get(web)\n",
    "    search = driver.find_element(By.ID, 'twotabsearchtextbox')\n",
    "    search.send_keys(keyword)\n",
    "    search_button = driver.find_element(By.ID, 'nav-search-submit-button')\n",
    "    search_button.click()"
   ]
  },
  {
   "cell_type": "code",
   "execution_count": 4,
   "id": "2ee512c9",
   "metadata": {},
   "outputs": [],
   "source": [
    "search_with_keyword(\"wireless charger\")"
   ]
  },
  {
   "cell_type": "code",
   "execution_count": 5,
   "id": "7d837b9d",
   "metadata": {},
   "outputs": [],
   "source": [
    "def navigate_next_page(search_term):\n",
    "    template = \"https://www.amazon.com/s?k={}&crid=5BUUOR41Y8NW&sprefix=wireless+charger%2Caps%2C199&ref=nb_sb_noss_1\"\n",
    "    seach_term = search_term.replace(' ', '+')\n",
    "    link = template.format(search_term)\n",
    "    link += '&page{}'\n",
    "    \n",
    "    return link"
   ]
  },
  {
   "cell_type": "code",
   "execution_count": 6,
   "id": "a40d726d",
   "metadata": {},
   "outputs": [
    {
     "name": "stdout",
     "output_type": "stream",
     "text": [
      "['Anker 315 Wireless Charger (Pad), 10W Max Fast Charging, Compatible with iPhone 14/13 Series, Samsung S22, AirPods, Samsung Buds, Google Buds, and More (Wall Charger Not Included)', 'Yootech Wireless Charger,10W Max Fast Wireless Charging Pad Compatible with iPhone 14/14 Plus/14 Pro/14 Pro Max/13/13 Mini/SE 2022/12/11/X/8,Samsung Galaxy S22/S21/S20,AirPods Pro 2(No AC Adapter)', 'Anker 313 Wireless Charger (Stand), Qi-Certified for iPhone 14/14 Pro/14 Pro Max/13/13 Pro Max, 10W Fast-Charging Galaxy S20, S10 (No AC Adapter)', 'Apple MagSafe Charger - Wireless Charger with Fast Charging Capability, Type C Wall Charger, Compatible with iPhone and AirPods', 'INIU Wireless Charger, 15W Fast Wireless Charging Station with Sleep-Friendly Adaptive Light Compatible with iPhone 14 13 12 Pro XR XS 8 Plus Samsung Galaxy S23 S22 S21 S20 Note 20 10 Google LG etc', 'Wireless Charger 2-Pack Qi-Certified 10W for iPhone Wireless Charger Pad COKOEYE, Max Fast Wireless Phone Charger for iPhone 14/14 Plus/14 Pro/14 ProMax/13 Series/12/11/Samsung S22/S21/S20/AirPods Pro', 'Fast Wireless Charger,NANAMI Qi Certified Wireless Charging Stand Compatible iPhone 14/13/12/SE 2020/11/XS Max/XR/X/8 Plus,Samsung Galaxy S22/S21/S20/S10/S9/S8/Note 20 Ultra/10/9 and Qi-Enabled Phone', 'Wireless Charger, 15W Qi-Certified Wireless Charging Pad 2-Pack Compatible with iPhone 13/13 Pro/13 Mini/13 ProMax/12/SE/11, Samsung Galaxy S21/S20/Note 10/Edge Note 20Ultra/S10, AirPods Pro', 'Fast Wireless Charger, [2 Pack] NANAMI Qi Certified Wireless Charging Stand Compatible iPhone 14/13/12/SE 2020/11 Pro/XS Max/XR/8, Samsung Galaxy S22/S21/S20/S10/S9/Note 20/10/9 and Qi-Enabled Phone', 'Compatible with MagSafe Charger for iPhone 14 - Mag Safe Magnetic Wireless Charger Pad for iPhone 14/14 Pro/14 Plus/14 Pro Max/13/13 Pro/13 Pro Max/13 Mini/12,[1 x USB C to USB Adapter][No AC Adapter]', 'Magnetic Wireless Charger - Magnet Charging Pad Compatible with iPhone 14/14 pro/14 plus/14 pro max/ 13/13 pro/13 pro max/12 pro max - Mag-Safe Charger for AirPods 3/2/Pro with USB-C 20W PD Adapter', 'Wireless Charger, Charging Station 3 in 1, Fast Wireless Charger Stand for iPhone 14/13/12/11/Pro/Max/Plus/XS/XR/X/8, Apple Watch 8/7/6/5/4/3/2/SE & AirPods', '3 in 1 Charging Station for iPhone, Wireless Charger for iPhone 14 13 12 11 X Pro Max & Apple Watch - Charging Stand Dock for AirPods', 'Wireless Charger [2 Pack], 15W Fast Wireless Charging Stand,Qi Wireless Charger Compatible with iPhone 13/12 /11Pro Max/XR/XS/X/8 Plus,Galaxy S21/S20/S10/S9/S8/Note 20/10,Google,LG,etc', 'Wireless Charging Station, 3 in 1 Foldable Fast Wireless Charger Pad [Compatible with Magsafe Charger] for iPhone 14/Pro/Max/Plus/13/12 Series, AirPods 3/2/Pro, Apple Watch/iWatch - Black', 'WAITIEE Wireless Charger 3 in 1, 15W Fast Charging Station for Apple iWatch 6/5/4/3/2/1,AirPods Pro,for iPhone14/13 Pro/Pro Max/12/11/X/Xr/Xs/8/Samsung Galaxy Phone Series (No Watch Charging Cable)', 'Anker 315 Wireless Charger (Pad), 10W Max Fast Charging, Compatible with iPhone 14/13 Series, Samsung S22, AirPods, Samsung Buds, Google Buds, and More (Wall Charger Not Included)', 'Yootech Wireless Charger,10W Max Fast Wireless Charging Pad Compatible with iPhone 14/14 Plus/14 Pro/14 Pro Max/13/13 Mini/SE 2022/12/11/X/8,Samsung Galaxy S22/S21/S20,AirPods Pro 2(No AC Adapter)', 'Anker 313 Wireless Charger (Stand), Qi-Certified for iPhone 14/14 Pro/14 Pro Max/13/13 Pro Max, 10W Fast-Charging Galaxy S20, S10 (No AC Adapter)', 'Apple MagSafe Charger - Wireless Charger with Fast Charging Capability, Type C Wall Charger, Compatible with iPhone and AirPods', 'INIU Wireless Charger, 15W Fast Wireless Charging Station with Sleep-Friendly Adaptive Light Compatible with iPhone 14 13 12 Pro XR XS 8 Plus Samsung Galaxy S23 S22 S21 S20 Note 20 10 Google LG etc', 'Wireless Charger 2-Pack Qi-Certified 10W for iPhone Wireless Charger Pad COKOEYE, Max Fast Wireless Phone Charger for iPhone 14/14 Plus/14 Pro/14 ProMax/13 Series/12/11/Samsung S22/S21/S20/AirPods Pro', 'Fast Wireless Charger,NANAMI Qi Certified Wireless Charging Stand Compatible iPhone 14/13/12/SE 2020/11/XS Max/XR/X/8 Plus,Samsung Galaxy S22/S21/S20/S10/S9/S8/Note 20 Ultra/10/9 and Qi-Enabled Phone', 'Wireless Charger, 15W Qi-Certified Wireless Charging Pad 2-Pack Compatible with iPhone 13/13 Pro/13 Mini/13 ProMax/12/SE/11, Samsung Galaxy S21/S20/Note 10/Edge Note 20Ultra/S10, AirPods Pro', 'Fast Wireless Charger, [2 Pack] NANAMI Qi Certified Wireless Charging Stand Compatible iPhone 14/13/12/SE 2020/11 Pro/XS Max/XR/8, Samsung Galaxy S22/S21/S20/S10/S9/Note 20/10/9 and Qi-Enabled Phone', 'Compatible with MagSafe Charger for iPhone 14 - Mag Safe Magnetic Wireless Charger Pad for iPhone 14/14 Pro/14 Plus/14 Pro Max/13/13 Pro/13 Pro Max/13 Mini/12,[1 x USB C to USB Adapter][No AC Adapter]', 'Magnetic Wireless Charger - Magnet Charging Pad Compatible with iPhone 14/14 pro/14 plus/14 pro max/ 13/13 pro/13 pro max/12 pro max - Mag-Safe Charger for AirPods 3/2/Pro with USB-C 20W PD Adapter', 'Wireless Charger, Charging Station 3 in 1, Fast Wireless Charger Stand for iPhone 14/13/12/11/Pro/Max/Plus/XS/XR/X/8, Apple Watch 8/7/6/5/4/3/2/SE & AirPods', '3 in 1 Charging Station for iPhone, Wireless Charger for iPhone 14 13 12 11 X Pro Max & Apple Watch - Charging Stand Dock for AirPods', 'Wireless Charger [2 Pack], 15W Fast Wireless Charging Stand,Qi Wireless Charger Compatible with iPhone 13/12 /11Pro Max/XR/XS/X/8 Plus,Galaxy S21/S20/S10/S9/S8/Note 20/10,Google,LG,etc', 'Wireless Charging Station, 3 in 1 Foldable Fast Wireless Charger Pad [Compatible with Magsafe Charger] for iPhone 14/Pro/Max/Plus/13/12 Series, AirPods 3/2/Pro, Apple Watch/iWatch - Black', 'WAITIEE Wireless Charger 3 in 1, 15W Fast Charging Station for Apple iWatch 6/5/4/3/2/1,AirPods Pro,for iPhone14/13 Pro/Pro Max/12/11/X/Xr/Xs/8/Samsung Galaxy Phone Series (No Watch Charging Cable)']\n",
      "[None, None, None, None, None, None, None, None, None, None, None, None, None, None, None, None, None, None, None, None, None, None, None, None, None, None, None, None, None, None, None, None]\n",
      "['$14.99', '$13.99', '$19.99', 0, '$18.99', '$19.99', '$18.99', '$20.99', '$33.99', '$16.99', '$19.99', '$23.99', '$36.99', '$20.98', '$25.49', '$29.99', '$14.99', '$13.99', '$19.99', 0, '$18.99', '$19.99', '$18.99', '$20.99', '$33.99', '$16.99', '$19.99', '$23.99', '$36.99', '$20.98', '$25.49', '$29.99']\n",
      "['4.3 out of 5 stars', '4.3 out of 5 stars', '4.6 out of 5 stars', '4.6 out of 5 stars', '4.4 out of 5 stars', '4.2 out of 5 stars', '4.3 out of 5 stars', '4.1 out of 5 stars', '4.4 out of 5 stars', '4.7 out of 5 stars', '4.4 out of 5 stars', '4.7 out of 5 stars', '4.8 out of 5 stars', '4.3 out of 5 stars', '5.0 out of 5 stars', '4.3 out of 5 stars', '4.3 out of 5 stars', '4.3 out of 5 stars', '4.6 out of 5 stars', '4.6 out of 5 stars', '4.4 out of 5 stars', '4.2 out of 5 stars', '4.3 out of 5 stars', '4.1 out of 5 stars', '4.4 out of 5 stars', '4.7 out of 5 stars', '4.4 out of 5 stars', '4.7 out of 5 stars', '4.8 out of 5 stars', '4.3 out of 5 stars', '5.0 out of 5 stars', '4.3 out of 5 stars']\n",
      "['765', '188,490', '84,411', '55,410', '8,821', '2,044', '46,635', '2,388', '5,336', '1,358', '4,416', '1,264', '1,819', '1,371', '7', '57,201', '765', '188,490', '84,411', '55,410', '8,821', '2,044', '46,635', '2,388', '5,336', '1,358', '4,416', '1,264', '1,819', '1,371', '7', '57,201']\n",
      "['https://www.amazon.com/Anker-Wireless-Charging-Compatible-Included/dp/B0B469HLNL/ref=sr_1_1?crid=374WTFUTNK659&keywords=wireless+charger&qid=1677514733&sprefix=wi%2Caps%2C371&sr=8-1', 'https://www.amazon.com/Wireless-Qi-Certified-Charging-Compatible-Qi-Enabled/dp/B079KZ49PJ/ref=sr_1_2?crid=374WTFUTNK659&keywords=wireless+charger&qid=1677514733&sprefix=wi%2Caps%2C371&sr=8-2', 'https://www.amazon.com/Anker-Qi-Certified-Compatible-Fast-Charging-PowerWave/dp/B07DBXZZN3/ref=sr_1_3?crid=374WTFUTNK659&keywords=wireless+charger&qid=1677514733&sprefix=wi%2Caps%2C371&sr=8-3', 'https://www.amazon.com/Apple-MHXH3AM-A-MagSafe-Charger/dp/B08L5NP6NG/ref=sr_1_4?crid=374WTFUTNK659&keywords=wireless+charger&qid=1677514733&sprefix=wi%2Caps%2C371&sr=8-4', 'https://www.amazon.com/INIU-Wireless-Qi-Certified-Sleep-Friendly-Compatible/dp/B08LVSFN4X/ref=sr_1_5?crid=374WTFUTNK659&keywords=wireless+charger&qid=1677514733&sprefix=wi%2Caps%2C371&sr=8-5', 'https://www.amazon.com/Wireless-Charger-Qi-Certified-COKOEYE-Samsung/dp/B09JCN9D6N/ref=sr_1_6?crid=374WTFUTNK659&keywords=wireless+charger&qid=1677514733&sprefix=wi%2Caps%2C371&sr=8-6', 'https://www.amazon.com/Wireless-NANAMI-Certified-Compatible-Qi-Enabled/dp/B06XXZK99F/ref=sr_1_7?crid=374WTFUTNK659&keywords=wireless+charger&qid=1677514733&sprefix=wi%2Caps%2C371&sr=8-7', 'https://www.amazon.com/Wireless-Charger-Qi-Certified-Charging-Compatible/dp/B09SHQFVPW/ref=sr_1_8?crid=374WTFUTNK659&keywords=wireless+charger&qid=1677514733&sprefix=wi%2Caps%2C371&sr=8-8', 'https://www.amazon.com/Wireless-NANAMI-Certified-Compatible-Qi-Enabled/dp/B07YBV3P8W/ref=sr_1_9?crid=374WTFUTNK659&keywords=wireless+charger&qid=1677514733&sprefix=wi%2Caps%2C371&sr=8-9', 'https://www.amazon.com/Compatible-MagSafe-Charger-iPhone-14/dp/B0BBTPQY1V/ref=sr_1_10?crid=374WTFUTNK659&keywords=wireless+charger&qid=1677514733&sprefix=wi%2Caps%2C371&sr=8-10', 'https://www.amazon.com/Magnetic-Wireless-ETEPEHI-Compatible-QI-Enable/dp/B09HBFNQBR/ref=sr_1_11?crid=374WTFUTNK659&keywords=wireless+charger&qid=1677514733&sprefix=wi%2Caps%2C371&sr=8-11', 'https://www.amazon.com/Wireless-Charger-Charging-Station-AirPods/dp/B0BL8B3WK2/ref=sr_1_12?crid=374WTFUTNK659&keywords=wireless+charger&qid=1677514733&sprefix=wi%2Caps%2C371&sr=8-12', 'https://www.amazon.com/Charging-Station-iPhone-Wireless-Charger/dp/B0BFCC18FS/ref=sr_1_13?crid=374WTFUTNK659&keywords=wireless+charger&qid=1677514733&sprefix=wi%2Caps%2C371&sr=8-13', 'https://www.amazon.com/Wireless-Charger-iPhone-Compatible-Qi-Enable/dp/B09SHG435M/ref=sr_1_14?crid=374WTFUTNK659&keywords=wireless+charger&qid=1677514733&sprefix=wi%2Caps%2C371&sr=8-14', 'https://www.amazon.com/Wireless-Charging-Station-Foldable-Compatible/dp/B0BN7WGPCN/ref=sr_1_15?crid=374WTFUTNK659&keywords=wireless+charger&qid=1677514733&sprefix=wi%2Caps%2C371&sr=8-15', 'https://www.amazon.com/WAITIEE-Wireless-Charger-Charging-Compatible/dp/B082X6N8PD/ref=sr_1_16?crid=374WTFUTNK659&keywords=wireless+charger&qid=1677514733&sprefix=wi%2Caps%2C371&sr=8-16', 'https://www.amazon.com/Anker-Wireless-Charging-Compatible-Included/dp/B0B469HLNL/ref=sr_1_1?crid=374WTFUTNK659&keywords=wireless+charger&qid=1677514733&sprefix=wi%2Caps%2C371&sr=8-1', 'https://www.amazon.com/Wireless-Qi-Certified-Charging-Compatible-Qi-Enabled/dp/B079KZ49PJ/ref=sr_1_2?crid=374WTFUTNK659&keywords=wireless+charger&qid=1677514733&sprefix=wi%2Caps%2C371&sr=8-2', 'https://www.amazon.com/Anker-Qi-Certified-Compatible-Fast-Charging-PowerWave/dp/B07DBXZZN3/ref=sr_1_3?crid=374WTFUTNK659&keywords=wireless+charger&qid=1677514733&sprefix=wi%2Caps%2C371&sr=8-3', 'https://www.amazon.com/Apple-MHXH3AM-A-MagSafe-Charger/dp/B08L5NP6NG/ref=sr_1_4?crid=374WTFUTNK659&keywords=wireless+charger&qid=1677514733&sprefix=wi%2Caps%2C371&sr=8-4', 'https://www.amazon.com/INIU-Wireless-Qi-Certified-Sleep-Friendly-Compatible/dp/B08LVSFN4X/ref=sr_1_5?crid=374WTFUTNK659&keywords=wireless+charger&qid=1677514733&sprefix=wi%2Caps%2C371&sr=8-5', 'https://www.amazon.com/Wireless-Charger-Qi-Certified-COKOEYE-Samsung/dp/B09JCN9D6N/ref=sr_1_6?crid=374WTFUTNK659&keywords=wireless+charger&qid=1677514733&sprefix=wi%2Caps%2C371&sr=8-6', 'https://www.amazon.com/Wireless-NANAMI-Certified-Compatible-Qi-Enabled/dp/B06XXZK99F/ref=sr_1_7?crid=374WTFUTNK659&keywords=wireless+charger&qid=1677514733&sprefix=wi%2Caps%2C371&sr=8-7', 'https://www.amazon.com/Wireless-Charger-Qi-Certified-Charging-Compatible/dp/B09SHQFVPW/ref=sr_1_8?crid=374WTFUTNK659&keywords=wireless+charger&qid=1677514733&sprefix=wi%2Caps%2C371&sr=8-8', 'https://www.amazon.com/Wireless-NANAMI-Certified-Compatible-Qi-Enabled/dp/B07YBV3P8W/ref=sr_1_9?crid=374WTFUTNK659&keywords=wireless+charger&qid=1677514733&sprefix=wi%2Caps%2C371&sr=8-9', 'https://www.amazon.com/Compatible-MagSafe-Charger-iPhone-14/dp/B0BBTPQY1V/ref=sr_1_10?crid=374WTFUTNK659&keywords=wireless+charger&qid=1677514733&sprefix=wi%2Caps%2C371&sr=8-10', 'https://www.amazon.com/Magnetic-Wireless-ETEPEHI-Compatible-QI-Enable/dp/B09HBFNQBR/ref=sr_1_11?crid=374WTFUTNK659&keywords=wireless+charger&qid=1677514733&sprefix=wi%2Caps%2C371&sr=8-11', 'https://www.amazon.com/Wireless-Charger-Charging-Station-AirPods/dp/B0BL8B3WK2/ref=sr_1_12?crid=374WTFUTNK659&keywords=wireless+charger&qid=1677514733&sprefix=wi%2Caps%2C371&sr=8-12', 'https://www.amazon.com/Charging-Station-iPhone-Wireless-Charger/dp/B0BFCC18FS/ref=sr_1_13?crid=374WTFUTNK659&keywords=wireless+charger&qid=1677514733&sprefix=wi%2Caps%2C371&sr=8-13', 'https://www.amazon.com/Wireless-Charger-iPhone-Compatible-Qi-Enable/dp/B09SHG435M/ref=sr_1_14?crid=374WTFUTNK659&keywords=wireless+charger&qid=1677514733&sprefix=wi%2Caps%2C371&sr=8-14', 'https://www.amazon.com/Wireless-Charging-Station-Foldable-Compatible/dp/B0BN7WGPCN/ref=sr_1_15?crid=374WTFUTNK659&keywords=wireless+charger&qid=1677514733&sprefix=wi%2Caps%2C371&sr=8-15', 'https://www.amazon.com/WAITIEE-Wireless-Charger-Charging-Compatible/dp/B082X6N8PD/ref=sr_1_16?crid=374WTFUTNK659&keywords=wireless+charger&qid=1677514733&sprefix=wi%2Caps%2C371&sr=8-16']\n"
     ]
    }
   ],
   "source": [
    "product_asin = []\n",
    "product_name = []\n",
    "product_price = []\n",
    "product_ratings = []\n",
    "product_ratings_num = []\n",
    "product_link = []\n",
    "\n",
    "soup = BeautifulSoup(driver.page_source, 'html.parser')\n",
    "\n",
    "\n",
    "for page in(1, 21):\n",
    "    driver.get(navigate_next_page(\"wireless charger\").format(page))\n",
    "    items = soup.find_all('div', {'data-component-type' : 's-search-result'})\n",
    "    \n",
    "    for item in items:\n",
    "        # find name\n",
    "        atag = item.h2.a\n",
    "        name = atag.text.strip()\n",
    "        product_name.append(name)\n",
    "\n",
    "        # find ASIN number \n",
    "        data_asin = item.find('div', \"data-asin\")\n",
    "        product_asin.append(data_asin)\n",
    "\n",
    "        # find price\n",
    "        try:\n",
    "            price = item.find('span', 'a-price').find('span', 'a-offscreen').text\n",
    "\n",
    "        except AttributeError:\n",
    "            price = 0\n",
    "        product_price.append(price)\n",
    "\n",
    "        # find ratings and ratings_num\n",
    "        try:\n",
    "            rating = item.i.text\n",
    "            ratings_num = item.find('span', {'class' : 'a-size-base s-underline-text'}).text.replace('(','').replace(')','')\n",
    "        except AttributeError:\n",
    "            rating = 0\n",
    "            ratings_num = 0\n",
    "\n",
    "        product_ratings.append(rating)\n",
    "        product_ratings_num.append(str(ratings_num))\n",
    "\n",
    "        # find link\n",
    "        try:\n",
    "            link = \"https://www.amazon.com\" + atag.get('href')\n",
    "        except:\n",
    "            link = ''\n",
    "        product_link.append(link)\n",
    "\n",
    "driver.quit()\n",
    "\n",
    "# to check data scraped\n",
    "print(product_name)\n",
    "print(product_asin)\n",
    "print(product_price)\n",
    "print(product_ratings)\n",
    "print(product_ratings_num)\n",
    "print(product_link)"
   ]
  },
  {
   "cell_type": "code",
   "execution_count": 7,
   "id": "5b635341",
   "metadata": {},
   "outputs": [],
   "source": [
    "import csv\n",
    "header = ['product_name','product_price','product_ratings', 'product_ratings_num','product_link']\n",
    "rows = zip(product_name,product_price,product_ratings,product_ratings_num,product_link)\n",
    "\n",
    "filename = \"output.csv\"\n",
    "with open(filename, 'w', newline='') as f:\n",
    "    writer = csv.writer(f)\n",
    "    writer.writerow(header)\n",
    "    writer.writerows(rows)"
   ]
  },
  {
   "cell_type": "code",
   "execution_count": null,
   "id": "2a7fb31e",
   "metadata": {},
   "outputs": [],
   "source": []
  }
 ],
 "metadata": {
  "kernelspec": {
   "display_name": "Python 3 (ipykernel)",
   "language": "python",
   "name": "python3"
  },
  "language_info": {
   "codemirror_mode": {
    "name": "ipython",
    "version": 3
   },
   "file_extension": ".py",
   "mimetype": "text/x-python",
   "name": "python",
   "nbconvert_exporter": "python",
   "pygments_lexer": "ipython3",
   "version": "3.9.13"
  }
 },
 "nbformat": 4,
 "nbformat_minor": 5
}
