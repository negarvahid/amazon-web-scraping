{
 "cells": [
  {
   "cell_type": "code",
   "execution_count": null,
   "id": "3daee13b",
   "metadata": {},
   "outputs": [],
   "source": [
    "import selenium"
   ]
  },
  {
   "cell_type": "code",
   "execution_count": 13,
   "id": "a6dfa463",
   "metadata": {},
   "outputs": [
    {
     "name": "stdout",
     "output_type": "stream",
     "text": [
      "['KKM Wireless Charger,15W 4 in 1 Fast Charger Station for iPhone 14/14 Max/14 Pro/14 Pro Max/13/12/11/iWatch 1-7/Air-Pods/Samsung S21/S20/S10,Tidy Storage(iWatch Charging Cable Not Included)', 'Wireless Charger, 15W Qi-Certified Max Fast Wireless Charging Pad 2-Pack Compatible with iPhone 13/13 Pro/13 Mini/13 ProMax/12/SE/11, Samsung Galaxy S21/S20/Note 10/Edge Note 20Ultra/S10, AirPods Pro', 'Yootech Wireless Charger,10W Max Fast Wireless Charging Pad Compatible with iPhone 14/14 Plus/14 Pro/14 Pro Max/13/13 Mini/SE 2022/12/11/X/8,Samsung Galaxy S22/S21/S20,AirPods Pro 2(No AC Adapter)', 'Anker 313 Wireless Charger (Stand), Qi-Certified for iPhone 12, 12 Pro Max, SE, 11, 11 Pro, 11 Pro Max, XR, XS Max, 10W Fast-Charging Galaxy S20, S10 (No AC Adapter)', 'Apple MagSafe Charger - Wireless Charger with Fast Charging Capability, Type C Wall Charger, Compatible with iPhone and AirPods', 'Fast Wireless Charger,20W Max Wireless Charging Pad Compatible with iPhone 14/14 Plus/14 Pro/14 Pro Max/13/12/11/X/8,AirPods;FDGAO Wireless Charge Mat for Samsung Galaxy S22/S20/Galaxy Buds', 'Wireless Charging Station, 18W Fast Wireless Charger for iPhone 14/13/12/11/Pro/Max/SE/XS/XR/X/8 Plus/8, 3 in 1 Wireless Charging Dock Stand for Apple Watch Series & Airpods (with Adapter)', 'Wireless Charger, 15W Qi-Certified Max Fast Wireless Charging Pad 2-Pack Compatible with iPhone 13/13 Pro/13 Mini/13 ProMax/12/SE/11, Samsung Galaxy S21/S20/Note 10/Edge Note 20Ultra/S10, AirPods Pro', 'Fast Wireless Charger,NANAMI Qi Certified Wireless Charging Stand Compatible iPhone 14/13/12/SE 2020/11/XS Max/XR/X/8 Plus,Samsung Galaxy S22/S21/S20/S10/S9/S8/Note 20 Ultra/10/9 and Qi-Enabled Phone', 'SAMSUNG 15W Wireless Charger Duo w/ USB C Cable, Charge 2 Devices at Once, Cordless Super Fast Charging Pad for Galaxy Phones and Devices, 2022, US Version, Black', 'Magnetic Wireless Charger - Magnet Charging Pad Compatible with iPhone 14/14 pro/14 plus/14 pro max/ 13/13 pro/13 pro max/12 pro max - Mag-Safe Charger for AirPods 3/2/Pro with USB-C 20W PD', 'Wireless Charger, 3 in 1 Fast Wireless Charging Station, Wireless Charging Stand Dock 18W Foldable for Apple Watch 8/7/6/SE/5/4/3/2 AirPods 3/2/Pro iPhone 14/13/12/11/Pro/XS/Xs Max/XR/X/SE/8/8 Plus', 'Wireless Charging Station, 18W Fast Wireless Charger for iPhone 14/13/12/11/Pro/Max/SE/XS/XR/X/8 Plus/8, 3 in 1 Wireless Charging Dock Stand for Apple Watch Series & Airpods (with Adapter)', 'Yootech Wireless Charger,[2 Pack] 10W Max Wireless Charging Pad Stand Bundle,Compatible with iPhone 14/14 Plus/14 Pro/14 Pro Max/13/SE 2022/12/11/X/8,Galaxy S22/S21/S20,AirPods Pro 2 (No AC Adapter)', 'Wireless Charger 2-Pack Qi-Certified 10W for iPhone Wireless Charger Pad COKOEYE, Max Fast Wireless Phone Charger for iPhone 14/14 Plus/14 Pro/14 ProMax/13 Series/12/11/Samsung S22/S21/S20/AirPods Pro', 'Anker 10W Max Wireless Charger, 313 Wireless Charger (Pad), Qi-Certified Wireless Charging for iPhone 14/14 Pro/14 Plus/14 Pro Max, 10W Fast Charging for Galaxy S20/S10/S9/S8, Note10 (No AC Adapter)', 'Yootech Wireless Charger,10W Max Wireless Charging Stand, Compatible with iPhone 14/14 Plus/14 Pro/14 Pro Max/13/13 Mini/13 Pro Max/SE 2022/12/11/X/8, Galaxy S22/S22 Ultra/S21/S20/S10(No AC Adapter)', 'Wireless Charger, Charging Station 3 in 1, Fast Wireless Charger Stand for iPhone 14/13/12/11/Pro/Max/Plus/XS/XR/X/8, Apple Watch 8/7/6/5/4/3/2/SE & AirPods', 'Fast Wireless Charger, [2 Pack] NANAMI Qi Certified Wireless Charging Stand Compatible iPhone 14/13/12/SE 2020/11 Pro/XS Max/XR/8, Samsung Galaxy S22/S21/S20/S10/S9/Note 20/10/9 and Qi-Enabled Phone', 'Foldable Wireless Charging Stand,15W Fast Wireless Charger and Charging Pad for iPhone 14/13 Pro Max/12/11/8 Plus/X/XR/XS/Mini/SE, Pixel 6/5,Samsung S21 Ultra/20/10/ Note 10 and AirPods(No Adapter)', 'KPON Wireless Charger for Thick Cases Up to 10mm - Compatible with Popsocket/Otterbox, 15W Max Wireless Phone Charging Station for iPhone 14/13/12/11/SE/X/8/Wireless Phones(Adapter Not Include)', 'Amazon Basics 15W Qi Certified Wireless Charging Pad (No AC Adapter)']\n",
      "['B0BNQ44Y5N', 'B09SHQFVPW', 'B079KZ49PJ', 'B07DBXZZN3', 'B08L5NP6NG', 'B09123BHRG', 'B09GVJ2VW5', 'B09SHQFVPW', 'B06XXZK99F', 'B09MV3BRHC', 'B09HBFNQBR', 'B09QM3GDY5', 'B09GVJ2VW5', 'B07P54F2JH', 'B09JCN9D6N', 'B08J48CPMJ', 'B07N682SWY', 'B0BL8B3WK2', 'B07YBV3P8W', 'B09C27PBY5', 'B0BGH83HCB', 'B0872RLX6Z']\n",
      "['16.99', '15.99', '13.99', '15.99', 0, '11.95', '29.99', '15.99', '18.99', 0, '19.99', '29.99', '29.99', '19.67', '19.99', '15.99', '14.99', '29.99', '27.18', '13.99', '23.99', 0]\n",
      "['4.2 out of 5 stars', '4.1 out of 5 stars', '4.3 out of 5 stars', '4.6 out of 5 stars', '4.6 out of 5 stars', '3.8 out of 5 stars', '4.3 out of 5 stars', '4.1 out of 5 stars', '4.3 out of 5 stars', '4.4 out of 5 stars', '4.4 out of 5 stars', '4.4 out of 5 stars', '4.3 out of 5 stars', '4.5 out of 5 stars', '4.2 out of 5 stars', '4.4 out of 5 stars', '4.6 out of 5 stars', '4.7 out of 5 stars', '4.4 out of 5 stars', '4.1 out of 5 stars', '4.0 out of 5 stars', '4.2 out of 5 stars']\n",
      "['5,863', '2,235', '187,584', '83,815', '54,527', '6,734', '6,591', '2,235', '46,135', '650', '3,606', '1,255', '6,591', '21,719', '1,894', '2,864', '15,200', '800', '5,186', '1,023', '69', '2,253']\n",
      "['', '', '', '', '', '', '', '', '', '', '', '', '', '', '', '', '', '', '', '', '', '']\n"
     ]
    }
   ],
   "source": [
    "from selenium import webdriver\n",
    "from selenium.webdriver.common.by import By\n",
    "from selenium.webdriver.support.ui import WebDriverWait as wait\n",
    "from selenium.webdriver.support import expected_conditions as EC\n",
    "\n",
    "\n",
    "web = 'https://www.amazon.com'\n",
    "\n",
    "driver = webdriver.Chrome()\n",
    "driver.get(web)\n",
    "\n",
    "driver.implicitly_wait(5)\n",
    "keyword = \"wireless charger\"\n",
    "search = driver.find_element(By.ID, 'twotabsearchtextbox')\n",
    "search.send_keys(keyword)\n",
    "# click search button\n",
    "search_button = driver.find_element(By.ID, 'nav-search-submit-button')\n",
    "search_button.click()\n",
    "\n",
    "driver.implicitly_wait(5)\n",
    "\n",
    "product_asin = []\n",
    "product_name = []\n",
    "product_price = []\n",
    "product_ratings = []\n",
    "product_ratings_num = []\n",
    "product_link = []\n",
    "\n",
    "items = wait(driver, 10).until(EC.presence_of_all_elements_located((By.XPATH, '//div[contains(@class, \"s-result-item s-asin\")]')))\n",
    "for item in items:\n",
    "    # find name\n",
    "    name = item.find_element(By.XPATH, './/span[@class=\"a-size-medium a-color-base a-text-normal\"]')\n",
    "    product_name.append(name.text)\n",
    "\n",
    "    # find ASIN number \n",
    "    data_asin = item.get_attribute(\"data-asin\")\n",
    "    product_asin.append(data_asin)\n",
    "\n",
    "    # find price\n",
    "    whole_price = item.find_elements(By.XPATH, './/span[@class=\"a-price-whole\"]')\n",
    "    fraction_price = item.find_elements(By.XPATH, './/span[@class=\"a-price-fraction\"]')\n",
    "    \n",
    "    if whole_price != [] and fraction_price != []:\n",
    "        price = '.'.join([whole_price[0].text, fraction_price[0].text])\n",
    "    else:\n",
    "        price = 0\n",
    "    product_price.append(price)\n",
    "\n",
    "    # find ratings box\n",
    "    ratings_box = item.find_elements(By.XPATH, './/div[@class=\"a-row a-size-small\"]/span')\n",
    "\n",
    "    # find ratings and ratings_num\n",
    "    if ratings_box != []:\n",
    "        ratings = ratings_box[0].get_attribute('aria-label')\n",
    "        ratings_num = ratings_box[1].get_attribute('aria-label')\n",
    "    else:\n",
    "        ratings, ratings_num = 0, 0\n",
    "    \n",
    "    product_ratings.append(ratings)\n",
    "    product_ratings_num.append(str(ratings_num))\n",
    "    \n",
    "    # find link\n",
    "    try:\n",
    "        link = item.find_element(By.XPATH, './/a[@class=\"a-link-normal a-text-normal\"]').get_attribute(\"href\")\n",
    "    except:\n",
    "        link = ''\n",
    "    product_link.append(link)\n",
    "\n",
    "driver.quit()\n",
    "\n",
    "# to check data scraped\n",
    "print(product_name)\n",
    "print(product_asin)\n",
    "print(product_price)\n",
    "print(product_ratings)\n",
    "print(product_ratings_num)\n",
    "print(product_link)\n"
   ]
  },
  {
   "cell_type": "code",
   "execution_count": 15,
   "id": "5b635341",
   "metadata": {},
   "outputs": [],
   "source": [
    "import csv\n",
    "header = ['product_name','product_asin','product_price','product_ratings', 'product_ratings_num','product_link']\n",
    "rows = zip(product_name,product_asin,product_price,product_ratings,product_ratings_num,product_link)\n",
    "\n",
    "filename = \"output.csv\"\n",
    "with open(filename, 'w', newline='') as f:\n",
    "    writer = csv.writer(f)\n",
    "    writer.writerow(header)\n",
    "    writer.writerows(rows)"
   ]
  },
  {
   "cell_type": "code",
   "execution_count": null,
   "id": "430a43ac",
   "metadata": {},
   "outputs": [],
   "source": []
  }
 ],
 "metadata": {
  "kernelspec": {
   "display_name": "Python 3 (ipykernel)",
   "language": "python",
   "name": "python3"
  },
  "language_info": {
   "codemirror_mode": {
    "name": "ipython",
    "version": 3
   },
   "file_extension": ".py",
   "mimetype": "text/x-python",
   "name": "python",
   "nbconvert_exporter": "python",
   "pygments_lexer": "ipython3",
   "version": "3.9.13"
  }
 },
 "nbformat": 4,
 "nbformat_minor": 5
}
